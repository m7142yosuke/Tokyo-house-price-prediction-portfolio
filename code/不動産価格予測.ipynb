{
 "cells": [
  {
   "cell_type": "markdown",
   "metadata": {},
   "source": [
    "# Tokyo house price prediction\n",
    "---\n",
    "## Webアプリを作成した目的\n",
    "賃貸を探すときに気に入った物件がお得なのか、少し割高なのか知りたいときがあるかと思います。  \n",
    "そういった時にこのアプリケーションを利用すると、家賃の妥当性を定量的に知ることができます。\n",
    "## WebアプリのURLと使用方法\n",
    "### ① 下のURLにアクセス\n",
    "http://54.250.166.173:5000/home  \n",
    "### ② ログインフォームに下記を入力\n",
    "Email：aaaa@gmail.com  \n",
    "Passwrod：aaaa  \n",
    "### ③ 例として、検索フォームに下記のURLをコピペして予測をクリック \n",
    "URL：https://www.homes.co.jp/chintai/b-1336110001797/  \n",
    "上のURLはHOME'Sに掲載されているある物件です。（※すでに掲載が終了している可能性があります）\n",
    "### ④ HOME'Sに掲載されている東京都内の好きな物件のURLを貼り付けて予測\n",
    "HOME'SのURL：https://www.homes.co.jp/chintai/tokyo/list/  \n",
    "現在は、事前にスクレイピングによって取得した物件（約16万件）のみ予測可能です。  \n",
    "今後は任意のURLを貼り付けて予測できるように改良する予定です。\n",
    "## データの取得方法\n",
    "HOME'Sに掲載されている東京都の物件約16万件をスクレイピングによって取得しました。"
   ]
  },
  {
   "cell_type": "markdown",
   "metadata": {},
   "source": [
    "# データの前処理とEDA\n",
    "---\n",
    "## The DATA"
   ]
  },
  {
   "cell_type": "code",
   "execution_count": 1,
   "metadata": {},
   "outputs": [],
   "source": [
    "model_save = False"
   ]
  },
  {
   "cell_type": "code",
   "execution_count": 2,
   "metadata": {},
   "outputs": [],
   "source": [
    "from pathlib import Path\n",
    "import pandas as pd\n",
    "import matplotlib.pyplot as plt\n",
    "import seaborn as sns\n",
    "import pickle\n",
    "import glob\n",
    "sns.set()\n",
    "\n",
    "p = Path('../data')\n",
    "df_all = pd.concat([pd.read_csv(f, index_col=0) for f in p.glob('*.csv')], sort=True)"
   ]
  },
  {
   "cell_type": "code",
   "execution_count": 3,
   "metadata": {},
   "outputs": [],
   "source": [
    "df_all.drop_duplicates(subset='url', keep='first', inplace=True)"
   ]
  },
  {
   "cell_type": "code",
   "execution_count": 4,
   "metadata": {},
   "outputs": [
    {
     "name": "stdout",
     "output_type": "stream",
     "text": [
      "<class 'pandas.core.frame.DataFrame'>\n",
      "Int64Index: 164716 entries, 0 to 34\n",
      "Data columns (total 47 columns):\n",
      "address                      164685 non-null object\n",
      "air_conditioner              164716 non-null int64\n",
      "auto_lock                    164716 non-null int64\n",
      "balcony_space                164685 non-null object\n",
      "bank                         159775 non-null object\n",
      "conditions                   164684 non-null object\n",
      "contract_period              139187 non-null object\n",
      "daylight_direction           164685 non-null object\n",
      "deposit                      164685 non-null object\n",
      "deposit2                     164685 non-null object\n",
      "eatting                      159775 non-null object\n",
      "education                    159775 non-null object\n",
      "equipments                   162071 non-null object\n",
      "equipments2                  142073 non-null object\n",
      "floor                        104790 non-null object\n",
      "floor2                       164684 non-null object\n",
      "floor_plan                   164685 non-null object\n",
      "floor_space                  164685 non-null object\n",
      "flooring                     164716 non-null int64\n",
      "home_insurance               164685 non-null object\n",
      "hospital                     159775 non-null object\n",
      "how_old                      164685 non-null object\n",
      "kichen                       164475 non-null object\n",
      "location                     164684 non-null object\n",
      "more_than_2                  164716 non-null int64\n",
      "name                         164685 non-null object\n",
      "new_house                    164716 non-null int64\n",
      "number_of_stations_10_min    160115 non-null object\n",
      "number_of_stations_all       160115 non-null object\n",
      "other                        148259 non-null object\n",
      "parking                      164716 non-null int64\n",
      "pets                         164716 non-null int64\n",
      "public_facility              159760 non-null object\n",
      "recomend_point               155964 non-null object\n",
      "reheating                    164716 non-null int64\n",
      "renewal_fee                  139187 non-null object\n",
      "rent                         164685 non-null object\n",
      "rent_all                     164685 non-null object\n",
      "security_deposit             164685 non-null object\n",
      "separate                     164716 non-null int64\n",
      "shopping                     159775 non-null object\n",
      "south                        164716 non-null int64\n",
      "station_express_info         164676 non-null object\n",
      "status                       164685 non-null object\n",
      "structure                    164684 non-null object\n",
      "traffic                      164685 non-null object\n",
      "url                          164716 non-null object\n",
      "dtypes: int64(10), object(37)\n",
      "memory usage: 60.3+ MB\n"
     ]
    }
   ],
   "source": [
    "df_all.info()"
   ]
  },
  {
   "cell_type": "code",
   "execution_count": 5,
   "metadata": {},
   "outputs": [
    {
     "data": {
      "text/html": [
       "<div>\n",
       "<style scoped>\n",
       "    .dataframe tbody tr th:only-of-type {\n",
       "        vertical-align: middle;\n",
       "    }\n",
       "\n",
       "    .dataframe tbody tr th {\n",
       "        vertical-align: top;\n",
       "    }\n",
       "\n",
       "    .dataframe thead th {\n",
       "        text-align: right;\n",
       "    }\n",
       "</style>\n",
       "<table border=\"1\" class=\"dataframe\">\n",
       "  <thead>\n",
       "    <tr style=\"text-align: right;\">\n",
       "      <th></th>\n",
       "      <th>address</th>\n",
       "      <th>air_conditioner</th>\n",
       "      <th>auto_lock</th>\n",
       "      <th>balcony_space</th>\n",
       "      <th>bank</th>\n",
       "      <th>conditions</th>\n",
       "      <th>contract_period</th>\n",
       "      <th>daylight_direction</th>\n",
       "      <th>deposit</th>\n",
       "      <th>deposit2</th>\n",
       "      <th>...</th>\n",
       "      <th>rent_all</th>\n",
       "      <th>security_deposit</th>\n",
       "      <th>separate</th>\n",
       "      <th>shopping</th>\n",
       "      <th>south</th>\n",
       "      <th>station_express_info</th>\n",
       "      <th>status</th>\n",
       "      <th>structure</th>\n",
       "      <th>traffic</th>\n",
       "      <th>url</th>\n",
       "    </tr>\n",
       "  </thead>\n",
       "  <tbody>\n",
       "    <tr>\n",
       "      <th>0</th>\n",
       "      <td>東京都中野区新井5丁目</td>\n",
       "      <td>1</td>\n",
       "      <td>1</td>\n",
       "      <td>-</td>\n",
       "      <td>\\n（株）りそな銀行 中野支店 新井薬師出張所\\n中野上高田郵便局\\n西武信用金庫 薬師駅前...</td>\n",
       "      <td>\\n                                            ...</td>\n",
       "      <td>2年間</td>\n",
       "      <td>南西</td>\n",
       "      <td>- / -</td>\n",
       "      <td>\\n                -</td>\n",
       "      <td>...</td>\n",
       "      <td>8.7万円 ( 5,000円 )</td>\n",
       "      <td>8.7万円 / 無</td>\n",
       "      <td>1</td>\n",
       "      <td>\\nローソンストア１００中野新井四丁目店\\nｍｉｎｉピアゴ新井５丁目店\\nあらいやくし薬局\\...</td>\n",
       "      <td>0</td>\n",
       "      <td>西武新宿線 新井薬師前駅 徒歩4分普通準急急行通勤急行ＪＲ中央線 中野駅 徒歩18分普通快速...</td>\n",
       "      <td>空家</td>\n",
       "      <td>\\n                                            ...</td>\n",
       "      <td>\\n西武新宿線 新井薬師前駅 徒歩4分\\nＪＲ中央線 中野駅 徒歩18分\\n\\n通勤・通学駅...</td>\n",
       "      <td>https://www.homes.co.jp/chintai/b-1064980018577/</td>\n",
       "    </tr>\n",
       "    <tr>\n",
       "      <th>1</th>\n",
       "      <td>東京都墨田区東向島3丁目</td>\n",
       "      <td>1</td>\n",
       "      <td>1</td>\n",
       "      <td>-</td>\n",
       "      <td>\\n東京東信用金庫 本店\\n東向島一郵便局\\n（株）三菱東京ＵＦＪ銀行 向島支店\\n向島郵便...</td>\n",
       "      <td>\\n                    二人入居可\\n                 ...</td>\n",
       "      <td>2年間</td>\n",
       "      <td>北西</td>\n",
       "      <td>- / -</td>\n",
       "      <td>\\n                                            ...</td>\n",
       "      <td>...</td>\n",
       "      <td>8.5万円 ( 10,000円 )</td>\n",
       "      <td>無 / 1ヶ月</td>\n",
       "      <td>1</td>\n",
       "      <td>\\nセブン－イレブン 墨田東向島４丁目店\\nグルメシティー東向島駅前店\\nあおぞら薬局\\n柳...</td>\n",
       "      <td>0</td>\n",
       "      <td>東武伊勢崎線 曳舟駅 徒歩6分普通区間準急準急区間急行急行京成押上線 京成曳舟駅 徒歩7分普...</td>\n",
       "      <td>未完成</td>\n",
       "      <td>\\n                                            ...</td>\n",
       "      <td>\\n東武伊勢崎線 曳舟駅 徒歩6分\\n京成押上線 京成曳舟駅 徒歩7分\\n東武伊勢崎線 東向...</td>\n",
       "      <td>https://www.homes.co.jp/chintai/b-1313570020198/</td>\n",
       "    </tr>\n",
       "    <tr>\n",
       "      <th>2</th>\n",
       "      <td>東京都墨田区東向島3丁目</td>\n",
       "      <td>1</td>\n",
       "      <td>1</td>\n",
       "      <td>-</td>\n",
       "      <td>\\n東京東信用金庫 本店\\n向島郵便局\\n（株）三菱東京ＵＦＪ銀行 向島支店\\n東向島一郵便...</td>\n",
       "      <td>\\n                    ペット相談\\n                 ...</td>\n",
       "      <td>2年間</td>\n",
       "      <td>北西</td>\n",
       "      <td>- / -</td>\n",
       "      <td>\\n                                            ...</td>\n",
       "      <td>...</td>\n",
       "      <td>8.55万円 ( 10,000円 )</td>\n",
       "      <td>無 / 1ヶ月</td>\n",
       "      <td>1</td>\n",
       "      <td>\\nローソン 墨田東向島二丁目店\\nまいばすけっと 東武曳舟駅西店\\nさつき薬局\\n菊屋本店...</td>\n",
       "      <td>0</td>\n",
       "      <td>東武伊勢崎線 曳舟駅 徒歩6分普通区間準急準急区間急行急行京成押上線 京成曳舟駅 徒歩7分普...</td>\n",
       "      <td>未完成</td>\n",
       "      <td>\\n                                            ...</td>\n",
       "      <td>\\n東武伊勢崎線 曳舟駅 徒歩6分\\n京成押上線 京成曳舟駅 徒歩7分\\n\\n通勤・通学駅ま...</td>\n",
       "      <td>https://www.homes.co.jp/chintai/b-1171750025121/</td>\n",
       "    </tr>\n",
       "    <tr>\n",
       "      <th>3</th>\n",
       "      <td>東京都杉並区上荻2丁目</td>\n",
       "      <td>1</td>\n",
       "      <td>1</td>\n",
       "      <td>-</td>\n",
       "      <td>\\n三井住友信託銀行（株） 荻窪支店\\n杉並四面道郵便局\\n（株）三井住友銀行 荻窪支店\\n...</td>\n",
       "      <td>\\n                    コンロ二口\\n                 ...</td>\n",
       "      <td>2年間</td>\n",
       "      <td>東</td>\n",
       "      <td>- / -</td>\n",
       "      <td>\\n                                            ...</td>\n",
       "      <td>...</td>\n",
       "      <td>9.9万円 ( 7,000円 )</td>\n",
       "      <td>1ヶ月 / 1ヶ月</td>\n",
       "      <td>1</td>\n",
       "      <td>\\nファミリーマート 杉並上荻二丁目店\\nウッディーワン\\n（有）ステラ薬局\\n井上茶舗\\n...</td>\n",
       "      <td>0</td>\n",
       "      <td>ＪＲ中央線 荻窪駅 徒歩8分普通快速通勤快速通勤特別快速中央特快青梅特快</td>\n",
       "      <td>未完成</td>\n",
       "      <td>\\n                                            ...</td>\n",
       "      <td>\\nＪＲ中央線 荻窪駅 徒歩8分\\n\\n通勤・通学駅までの経路・所要時間を調べる\\n\\n</td>\n",
       "      <td>https://www.homes.co.jp/chintai/b-37031260003000/</td>\n",
       "    </tr>\n",
       "    <tr>\n",
       "      <th>4</th>\n",
       "      <td>東京都杉並区上荻2丁目</td>\n",
       "      <td>1</td>\n",
       "      <td>1</td>\n",
       "      <td>-</td>\n",
       "      <td>\\n三井住友信託銀行（株） 荻窪支店\\n杉並四面道郵便局\\n（株）三井住友銀行 荻窪支店\\n...</td>\n",
       "      <td>\\n                                            ...</td>\n",
       "      <td>2年間</td>\n",
       "      <td>西</td>\n",
       "      <td>- / -</td>\n",
       "      <td>\\n                                            ...</td>\n",
       "      <td>...</td>\n",
       "      <td>9.9万円 ( 7,000円 )</td>\n",
       "      <td>1ヶ月 / 1ヶ月</td>\n",
       "      <td>1</td>\n",
       "      <td>\\nファミリーマート 杉並上荻二丁目店\\nウッディーワン\\n（有）ステラ薬局\\n井上茶舗\\n...</td>\n",
       "      <td>0</td>\n",
       "      <td>ＪＲ中央線 荻窪駅 徒歩8分普通快速通勤快速通勤特別快速中央特快青梅特快</td>\n",
       "      <td>未完成</td>\n",
       "      <td>\\n                                            ...</td>\n",
       "      <td>\\nＪＲ中央線 荻窪駅 徒歩8分\\n\\n通勤・通学駅までの経路・所要時間を調べる\\n\\n</td>\n",
       "      <td>https://www.homes.co.jp/chintai/b-37031260003010/</td>\n",
       "    </tr>\n",
       "  </tbody>\n",
       "</table>\n",
       "<p>5 rows × 47 columns</p>\n",
       "</div>"
      ],
      "text/plain": [
       "        address  air_conditioner  auto_lock balcony_space  \\\n",
       "0   東京都中野区新井5丁目                1          1             -   \n",
       "1  東京都墨田区東向島3丁目                1          1             -   \n",
       "2  東京都墨田区東向島3丁目                1          1             -   \n",
       "3   東京都杉並区上荻2丁目                1          1             -   \n",
       "4   東京都杉並区上荻2丁目                1          1             -   \n",
       "\n",
       "                                                bank  \\\n",
       "0  \\n（株）りそな銀行 中野支店 新井薬師出張所\\n中野上高田郵便局\\n西武信用金庫 薬師駅前...   \n",
       "1  \\n東京東信用金庫 本店\\n東向島一郵便局\\n（株）三菱東京ＵＦＪ銀行 向島支店\\n向島郵便...   \n",
       "2  \\n東京東信用金庫 本店\\n向島郵便局\\n（株）三菱東京ＵＦＪ銀行 向島支店\\n東向島一郵便...   \n",
       "3  \\n三井住友信託銀行（株） 荻窪支店\\n杉並四面道郵便局\\n（株）三井住友銀行 荻窪支店\\n...   \n",
       "4  \\n三井住友信託銀行（株） 荻窪支店\\n杉並四面道郵便局\\n（株）三井住友銀行 荻窪支店\\n...   \n",
       "\n",
       "                                          conditions contract_period  \\\n",
       "0  \\n                                            ...             2年間   \n",
       "1  \\n                    二人入居可\\n                 ...             2年間   \n",
       "2  \\n                    ペット相談\\n                 ...             2年間   \n",
       "3  \\n                    コンロ二口\\n                 ...             2年間   \n",
       "4  \\n                                            ...             2年間   \n",
       "\n",
       "  daylight_direction deposit  \\\n",
       "0                 南西   - / -   \n",
       "1                 北西   - / -   \n",
       "2                 北西   - / -   \n",
       "3                  東   - / -   \n",
       "4                  西   - / -   \n",
       "\n",
       "                                            deposit2  ...            rent_all  \\\n",
       "0                \\n                -                  ...    8.7万円 ( 5,000円 )   \n",
       "1  \\n                                            ...  ...   8.5万円 ( 10,000円 )   \n",
       "2  \\n                                            ...  ...  8.55万円 ( 10,000円 )   \n",
       "3  \\n                                            ...  ...    9.9万円 ( 7,000円 )   \n",
       "4  \\n                                            ...  ...    9.9万円 ( 7,000円 )   \n",
       "\n",
       "  security_deposit separate  \\\n",
       "0        8.7万円 / 無        1   \n",
       "1          無 / 1ヶ月        1   \n",
       "2          無 / 1ヶ月        1   \n",
       "3        1ヶ月 / 1ヶ月        1   \n",
       "4        1ヶ月 / 1ヶ月        1   \n",
       "\n",
       "                                            shopping south  \\\n",
       "0  \\nローソンストア１００中野新井四丁目店\\nｍｉｎｉピアゴ新井５丁目店\\nあらいやくし薬局\\...     0   \n",
       "1  \\nセブン－イレブン 墨田東向島４丁目店\\nグルメシティー東向島駅前店\\nあおぞら薬局\\n柳...     0   \n",
       "2  \\nローソン 墨田東向島二丁目店\\nまいばすけっと 東武曳舟駅西店\\nさつき薬局\\n菊屋本店...     0   \n",
       "3  \\nファミリーマート 杉並上荻二丁目店\\nウッディーワン\\n（有）ステラ薬局\\n井上茶舗\\n...     0   \n",
       "4  \\nファミリーマート 杉並上荻二丁目店\\nウッディーワン\\n（有）ステラ薬局\\n井上茶舗\\n...     0   \n",
       "\n",
       "                                station_express_info status  \\\n",
       "0  西武新宿線 新井薬師前駅 徒歩4分普通準急急行通勤急行ＪＲ中央線 中野駅 徒歩18分普通快速...     空家   \n",
       "1  東武伊勢崎線 曳舟駅 徒歩6分普通区間準急準急区間急行急行京成押上線 京成曳舟駅 徒歩7分普...    未完成   \n",
       "2  東武伊勢崎線 曳舟駅 徒歩6分普通区間準急準急区間急行急行京成押上線 京成曳舟駅 徒歩7分普...    未完成   \n",
       "3               ＪＲ中央線 荻窪駅 徒歩8分普通快速通勤快速通勤特別快速中央特快青梅特快    未完成   \n",
       "4               ＪＲ中央線 荻窪駅 徒歩8分普通快速通勤快速通勤特別快速中央特快青梅特快    未完成   \n",
       "\n",
       "                                           structure  \\\n",
       "0  \\n                                            ...   \n",
       "1  \\n                                            ...   \n",
       "2  \\n                                            ...   \n",
       "3  \\n                                            ...   \n",
       "4  \\n                                            ...   \n",
       "\n",
       "                                             traffic  \\\n",
       "0  \\n西武新宿線 新井薬師前駅 徒歩4分\\nＪＲ中央線 中野駅 徒歩18分\\n\\n通勤・通学駅...   \n",
       "1  \\n東武伊勢崎線 曳舟駅 徒歩6分\\n京成押上線 京成曳舟駅 徒歩7分\\n東武伊勢崎線 東向...   \n",
       "2  \\n東武伊勢崎線 曳舟駅 徒歩6分\\n京成押上線 京成曳舟駅 徒歩7分\\n\\n通勤・通学駅ま...   \n",
       "3       \\nＪＲ中央線 荻窪駅 徒歩8分\\n\\n通勤・通学駅までの経路・所要時間を調べる\\n\\n   \n",
       "4       \\nＪＲ中央線 荻窪駅 徒歩8分\\n\\n通勤・通学駅までの経路・所要時間を調べる\\n\\n   \n",
       "\n",
       "                                                 url  \n",
       "0   https://www.homes.co.jp/chintai/b-1064980018577/  \n",
       "1   https://www.homes.co.jp/chintai/b-1313570020198/  \n",
       "2   https://www.homes.co.jp/chintai/b-1171750025121/  \n",
       "3  https://www.homes.co.jp/chintai/b-37031260003000/  \n",
       "4  https://www.homes.co.jp/chintai/b-37031260003010/  \n",
       "\n",
       "[5 rows x 47 columns]"
      ]
     },
     "execution_count": 5,
     "metadata": {},
     "output_type": "execute_result"
    }
   ],
   "source": [
    "df_all.head(5)"
   ]
  },
  {
   "cell_type": "markdown",
   "metadata": {},
   "source": [
    "## Data description\n",
    "- `name` - 物件名\n",
    "- `floor` - 階数\n",
    "- `rent` - 家賃\n",
    "- `rent_all` - 家賃（共益費）\n",
    "- `security_deposit ` - 敷金・礼金\n",
    "- `deposit` - 保証金\n",
    "- `traffic` - 最寄り駅などの情報\n",
    "- `address` - 住所\n",
    "- `number_of_stations_10_min` - 徒歩10分以内の駅数\n",
    "- `number_of_stations_all` - 近くにある全ての駅の数\n",
    "- `station_express_info` - 近くの駅の停車する電車の情報（急行・快速など）\n",
    "- `shopping` - 近くにあるショッピング施設\n",
    "- `eatting`- 近くにある飲食店\n",
    "- `education` - 近くにある教育施設\n",
    "- `hospital`- 近くにある病院\n",
    "- `bank` - 近くにある銀行\n",
    "- `public_facility` - 近くにある公共施設\n",
    "- `how_old` - 築年数\n",
    "- `daylight_direction` - 採光面\n",
    "- `floor_space` - 床面積\n",
    "- `balcony_space` - バルコニーの面積\n",
    "- `floor_plan` - 間取り\n",
    "- `recomend_point` - おすすめポイント\n",
    "- `contract_period` - 契約期間\n",
    "- `renewal_fee` - 更新料\n",
    "- `deposit2` - 保証金2\n",
    "- `home_insurance` - 住宅保険\n",
    "- `status` - 状態（空き家など）\n",
    "- `conditions` - 条件\n",
    "- `kichen` - キッチン等の情報\n",
    "- `equipments` - 設備の情報\n",
    "- `other` - その他の情報\n",
    "- `url` - 物件のURL"
   ]
  },
  {
   "cell_type": "markdown",
   "metadata": {},
   "source": [
    "## Data cleaning\n",
    "EDAやモデルの学習をおこなうために、データクリーニングをします。  \n",
    "具体的には、以下の処理をしました。\n",
    "- target変数である`rent`が欠損している行は削除\n",
    "- すべてobject型になっているので、家賃など数値として扱うものは整数型に変更"
   ]
  },
  {
   "cell_type": "code",
   "execution_count": 6,
   "metadata": {},
   "outputs": [],
   "source": [
    "df_all.dropna(subset=['rent'], inplace=True)"
   ]
  },
  {
   "cell_type": "code",
   "execution_count": 7,
   "metadata": {},
   "outputs": [],
   "source": [
    "# 共益費\n",
    "df_all['service_fee'] = \\\n",
    "    df_all.apply(lambda row: row['rent_all'].lstrip(row['rent']).strip(' ()円').replace(',','').replace('-', '0'), axis=1).astype('int')\n",
    "df_all.drop('rent_all', axis=1, inplace=True)"
   ]
  },
  {
   "cell_type": "code",
   "execution_count": 8,
   "metadata": {},
   "outputs": [],
   "source": [
    "df_all['rent'] = df_all['rent'].apply(lambda x: float(x.rstrip('万円'))*10000).astype('int')"
   ]
  },
  {
   "cell_type": "markdown",
   "metadata": {},
   "source": [
    "## EDA and sample statistics\n",
    "データの特性を知り、特徴量エンジニアリングやモデルの選定の際に活かします。"
   ]
  },
  {
   "cell_type": "markdown",
   "metadata": {},
   "source": [
    "### `rent`（家賃）の分布と統計量"
   ]
  },
  {
   "cell_type": "code",
   "execution_count": 9,
   "metadata": {},
   "outputs": [
    {
     "data": {
      "image/png": "[encoded data removed]",
      "text/plain": [
       "<Figure size 864x576 with 1 Axes>"
      ]
     },
     "metadata": {
      "needs_background": "light"
     },
     "output_type": "display_data"
    }
   ],
   "source": [
    "plt.figure(figsize=(12, 8))\n",
    "plt.hist(df_all['rent'], bins=400)\n",
    "plt.xlim(0, 500000)\n",
    "plt.show()"
   ]
  },
  {
   "cell_type": "code",
   "execution_count": 10,
   "metadata": {},
   "outputs": [
    {
     "data": {
      "text/plain": [
       "count    1.646850e+05\n",
       "mean     8.504018e+04\n",
       "std      4.269391e+04\n",
       "min      1.050000e+04\n",
       "25%      6.000000e+04\n",
       "50%      7.500000e+04\n",
       "75%      9.900000e+04\n",
       "max      1.550000e+06\n",
       "Name: rent, dtype: float64"
      ]
     },
     "execution_count": 10,
     "metadata": {},
     "output_type": "execute_result"
    }
   ],
   "source": [
    "df_all['rent'].describe()"
   ]
  },
  {
   "cell_type": "markdown",
   "metadata": {},
   "source": [
    "平均が91652円で、中央値が85000円。さすが東京、高いですね。。"
   ]
  },
  {
   "cell_type": "markdown",
   "metadata": {},
   "source": [
    "### `service_fee`（共益費）の分布"
   ]
  },
  {
   "cell_type": "code",
   "execution_count": 11,
   "metadata": {},
   "outputs": [
    {
     "data": {
      "image/png": "[encoded data removed]",
      "text/plain": [
       "<Figure size 864x576 with 1 Axes>"
      ]
     },
     "metadata": {
      "needs_background": "light"
     },
     "output_type": "display_data"
    }
   ],
   "source": [
    "plt.figure(figsize=(12, 8))\n",
    "plt.hist(df_all['service_fee'], bins=100)\n",
    "plt.xlim(0, 50000)\n",
    "plt.show()"
   ]
  },
  {
   "cell_type": "code",
   "execution_count": 12,
   "metadata": {},
   "outputs": [
    {
     "data": {
      "text/plain": [
       "count    164685.000000\n",
       "mean       4407.091289\n",
       "std        3983.448083\n",
       "min           0.000000\n",
       "25%        2000.000000\n",
       "50%        3000.000000\n",
       "75%        6000.000000\n",
       "max      150000.000000\n",
       "Name: service_fee, dtype: float64"
      ]
     },
     "execution_count": 12,
     "metadata": {},
     "output_type": "execute_result"
    }
   ],
   "source": [
    "df_all['service_fee'].describe()"
   ]
  },
  {
   "cell_type": "markdown",
   "metadata": {},
   "source": [
    "共益費はあんまり綺麗な分布ではないですね。"
   ]
  },
  {
   "cell_type": "markdown",
   "metadata": {},
   "source": [
    "### 目的変数の設定\n",
    "このデータ分析では`rent`（家賃）と`service_fee`（共益費）を合計した金額を目的変数とします。  "
   ]
  },
  {
   "cell_type": "code",
   "execution_count": 13,
   "metadata": {},
   "outputs": [],
   "source": [
    "# 目的変数\n",
    "df_all['target'] = df_all['rent'] + df_all['service_fee']"
   ]
  },
  {
   "cell_type": "code",
   "execution_count": 14,
   "metadata": {},
   "outputs": [
    {
     "data": {
      "image/png": "[encoded data removed]",
      "text/plain": [
       "<Figure size 864x576 with 1 Axes>"
      ]
     },
     "metadata": {
      "needs_background": "light"
     },
     "output_type": "display_data"
    }
   ],
   "source": [
    "plt.figure(figsize=(12, 8))\n",
    "plt.hist(df_all['target'], bins=400)\n",
    "plt.xlim(0, 500000)\n",
    "plt.show()"
   ]
  },
  {
   "cell_type": "markdown",
   "metadata": {},
   "source": [
    "右裾が長い分布になっています。  \n",
    "どれくらい正規分布からズレているか定量的に測ってみましょう。正規分布からのズレ具合を表す統計量として**歪度**があります。  \n",
    "歪度は`Scipy`を使うことで簡単に計算できます。"
   ]
  },
  {
   "cell_type": "code",
   "execution_count": 15,
   "metadata": {},
   "outputs": [
    {
     "data": {
      "text/plain": [
       "3.0333404245855253"
      ]
     },
     "execution_count": 15,
     "metadata": {},
     "output_type": "execute_result"
    }
   ],
   "source": [
    "import scipy\n",
    "\n",
    "scipy.stats.skew(df_all['target'])"
   ]
  },
  {
   "cell_type": "markdown",
   "metadata": {},
   "source": [
    "歪度は1以上だとひどく歪んだ分布なので、東京都の家賃分布はかなり裾が長い分布と言えます。  \n",
    "田舎だと家賃の幅が狭くて、歪度はもう少し低い値になりそうですね。  \n",
    "\n",
    "損失関数によっては、このような正規分布から大きく外れた分布だと不都合が生じることがあるため、分布を正規分布に近い形に変換する必要があります。"
   ]
  },
  {
   "cell_type": "markdown",
   "metadata": {},
   "source": [
    "### 目的変数の対数変換\n",
    "目的変数を対数変換することで、分布を正規分布に近づけます。"
   ]
  },
  {
   "cell_type": "code",
   "execution_count": 16,
   "metadata": {},
   "outputs": [
    {
     "data": {
      "image/png": "[encoded data removed]",
      "text/plain": [
       "<Figure size 864x576 with 1 Axes>"
      ]
     },
     "metadata": {
      "needs_background": "light"
     },
     "output_type": "display_data"
    }
   ],
   "source": [
    "import numpy as np\n",
    "\n",
    "plt.figure(figsize=(12, 8))\n",
    "plt.hist(np.log1p(df_all['target']), bins=100)\n",
    "plt.show()"
   ]
  },
  {
   "cell_type": "markdown",
   "metadata": {},
   "source": [
    "見た目上、正規分布に近づいていることがわかります。定量的に確認するために、歪度をもう一度計算します。"
   ]
  },
  {
   "cell_type": "code",
   "execution_count": 17,
   "metadata": {},
   "outputs": [
    {
     "data": {
      "text/plain": [
       "0.3252554367056249"
      ]
     },
     "execution_count": 17,
     "metadata": {},
     "output_type": "execute_result"
    }
   ],
   "source": [
    "scipy.stats.skew(np.log1p(df_all['target']))"
   ]
  },
  {
   "cell_type": "markdown",
   "metadata": {},
   "source": [
    "変換前の歪度が7.6だったので、対数変換によって正規分布に近づいていることが定量的に言えます。（正規分布だと歪度は0になります）"
   ]
  },
  {
   "cell_type": "markdown",
   "metadata": {},
   "source": [
    "### 徒歩10分圏内の駅の数"
   ]
  },
  {
   "cell_type": "code",
   "execution_count": 18,
   "metadata": {},
   "outputs": [
    {
     "data": {
      "text/plain": [
       "array(['徒歩10分以内（1駅）', '徒歩10分以内（2駅）', '徒歩10分以内（0駅）', nan, '徒歩10分以内（4駅）',\n",
       "       '徒歩10分以内（6駅）', '徒歩10分以内（3駅）', '徒歩10分以内（5駅）'], dtype=object)"
      ]
     },
     "execution_count": 18,
     "metadata": {},
     "output_type": "execute_result"
    }
   ],
   "source": [
    "df_all['number_of_stations_10_min'].unique()"
   ]
  },
  {
   "cell_type": "markdown",
   "metadata": {},
   "source": [
    "駅数が欠損しているのは徒歩10分以内でしょうか。欠損している行を確認してみます。"
   ]
  },
  {
   "cell_type": "code",
   "execution_count": 19,
   "metadata": {},
   "outputs": [
    {
     "data": {
      "text/html": [
       "<div>\n",
       "<style scoped>\n",
       "    .dataframe tbody tr th:only-of-type {\n",
       "        vertical-align: middle;\n",
       "    }\n",
       "\n",
       "    .dataframe tbody tr th {\n",
       "        vertical-align: top;\n",
       "    }\n",
       "\n",
       "    .dataframe thead th {\n",
       "        text-align: right;\n",
       "    }\n",
       "</style>\n",
       "<table border=\"1\" class=\"dataframe\">\n",
       "  <thead>\n",
       "    <tr style=\"text-align: right;\">\n",
       "      <th></th>\n",
       "      <th>address</th>\n",
       "      <th>air_conditioner</th>\n",
       "      <th>auto_lock</th>\n",
       "      <th>balcony_space</th>\n",
       "      <th>bank</th>\n",
       "      <th>conditions</th>\n",
       "      <th>contract_period</th>\n",
       "      <th>daylight_direction</th>\n",
       "      <th>deposit</th>\n",
       "      <th>deposit2</th>\n",
       "      <th>...</th>\n",
       "      <th>separate</th>\n",
       "      <th>shopping</th>\n",
       "      <th>south</th>\n",
       "      <th>station_express_info</th>\n",
       "      <th>status</th>\n",
       "      <th>structure</th>\n",
       "      <th>traffic</th>\n",
       "      <th>url</th>\n",
       "      <th>service_fee</th>\n",
       "      <th>target</th>\n",
       "    </tr>\n",
       "  </thead>\n",
       "  <tbody>\n",
       "    <tr>\n",
       "      <th>75</th>\n",
       "      <td>東京都府中市是政3丁目64-9</td>\n",
       "      <td>1</td>\n",
       "      <td>0</td>\n",
       "      <td>-</td>\n",
       "      <td>NaN</td>\n",
       "      <td>\\n                    二人入居可\\n                 ...</td>\n",
       "      <td>2年間</td>\n",
       "      <td>南東</td>\n",
       "      <td>- / -</td>\n",
       "      <td>\\n                                            ...</td>\n",
       "      <td>...</td>\n",
       "      <td>1</td>\n",
       "      <td>NaN</td>\n",
       "      <td>0</td>\n",
       "      <td>ＪＲ南武線 府中本町駅 徒歩11分普通快速西武多摩川線 是政駅 徒歩12分普通</td>\n",
       "      <td>空家</td>\n",
       "      <td>\\n                                            ...</td>\n",
       "      <td>\\nＪＲ南武線 府中本町駅 徒歩11分\\n西武多摩川線 是政駅 徒歩12分\\n\\n通勤・通学...</td>\n",
       "      <td>https://www.homes.co.jp/chintai/b-1142840600220/</td>\n",
       "      <td>3000</td>\n",
       "      <td>77000</td>\n",
       "    </tr>\n",
       "    <tr>\n",
       "      <th>3</th>\n",
       "      <td>東京都文京区本駒込2丁目11</td>\n",
       "      <td>0</td>\n",
       "      <td>1</td>\n",
       "      <td>-</td>\n",
       "      <td>NaN</td>\n",
       "      <td>\\n                    二人入居可\\n                 ...</td>\n",
       "      <td>2年間</td>\n",
       "      <td>南東</td>\n",
       "      <td>- / -</td>\n",
       "      <td>\\n                                            ...</td>\n",
       "      <td>...</td>\n",
       "      <td>0</td>\n",
       "      <td>NaN</td>\n",
       "      <td>0</td>\n",
       "      <td>都営三田線 千石駅 徒歩3分普通急行東京メトロ南北線 本駒込駅 徒歩9分普通</td>\n",
       "      <td>空家</td>\n",
       "      <td>\\n                                            ...</td>\n",
       "      <td>\\n都営三田線 千石駅 徒歩3分\\n東京メトロ南北線 本駒込駅 徒歩9分\\n都営三田線白山駅...</td>\n",
       "      <td>https://www.homes.co.jp/chintai/b-1408470000244/</td>\n",
       "      <td>4000</td>\n",
       "      <td>162000</td>\n",
       "    </tr>\n",
       "  </tbody>\n",
       "</table>\n",
       "<p>2 rows × 48 columns</p>\n",
       "</div>"
      ],
      "text/plain": [
       "            address  air_conditioner  auto_lock balcony_space bank  \\\n",
       "75  東京都府中市是政3丁目64-9                1          0             -  NaN   \n",
       "3    東京都文京区本駒込2丁目11                0          1             -  NaN   \n",
       "\n",
       "                                           conditions contract_period  \\\n",
       "75  \\n                    二人入居可\\n                 ...             2年間   \n",
       "3   \\n                    二人入居可\\n                 ...             2年間   \n",
       "\n",
       "   daylight_direction deposit  \\\n",
       "75                 南東   - / -   \n",
       "3                  南東   - / -   \n",
       "\n",
       "                                             deposit2  ... separate shopping  \\\n",
       "75  \\n                                            ...  ...        1      NaN   \n",
       "3   \\n                                            ...  ...        0      NaN   \n",
       "\n",
       "   south                     station_express_info status  \\\n",
       "75     0  ＪＲ南武線 府中本町駅 徒歩11分普通快速西武多摩川線 是政駅 徒歩12分普通     空家   \n",
       "3      0   都営三田線 千石駅 徒歩3分普通急行東京メトロ南北線 本駒込駅 徒歩9分普通     空家   \n",
       "\n",
       "                                            structure  \\\n",
       "75  \\n                                            ...   \n",
       "3   \\n                                            ...   \n",
       "\n",
       "                                              traffic  \\\n",
       "75  \\nＪＲ南武線 府中本町駅 徒歩11分\\n西武多摩川線 是政駅 徒歩12分\\n\\n通勤・通学...   \n",
       "3   \\n都営三田線 千石駅 徒歩3分\\n東京メトロ南北線 本駒込駅 徒歩9分\\n都営三田線白山駅...   \n",
       "\n",
       "                                                 url  service_fee  target  \n",
       "75  https://www.homes.co.jp/chintai/b-1142840600220/         3000   77000  \n",
       "3   https://www.homes.co.jp/chintai/b-1408470000244/         4000  162000  \n",
       "\n",
       "[2 rows x 48 columns]"
      ]
     },
     "execution_count": 19,
     "metadata": {},
     "output_type": "execute_result"
    }
   ],
   "source": [
    "df_all[df_all['number_of_stations_10_min'].isnull()].head(2)"
   ]
  },
  {
   "cell_type": "markdown",
   "metadata": {},
   "source": [
    "駅数が欠損していても、`traffic`から徒歩10分圏内の駅数は0じゃないことがわかります。"
   ]
  },
  {
   "cell_type": "markdown",
   "metadata": {},
   "source": [
    "### `number_of_stations_10_min`と`number_of_stations_all`の欠損値の補完\n",
    "欠損していない`traffic`から文字を抽出して、欠損している駅数を補完します。"
   ]
  },
  {
   "cell_type": "code",
   "execution_count": 20,
   "metadata": {},
   "outputs": [
    {
     "data": {
      "text/plain": [
       "'\\n西武新宿線 新井薬師前駅 徒歩4分\\nＪＲ中央線 中野駅 徒歩18分\\n\\n通勤・通学駅までの経路・所要時間を調べる\\n\\n'"
      ]
     },
     "execution_count": 20,
     "metadata": {},
     "output_type": "execute_result"
    }
   ],
   "source": [
    "df_all['traffic'].iloc[0]"
   ]
  },
  {
   "cell_type": "markdown",
   "metadata": {},
   "source": [
    "上の文から10分以内の駅数、家の近くのすべての駅数を抽出できそうです。"
   ]
  },
  {
   "cell_type": "code",
   "execution_count": 21,
   "metadata": {},
   "outputs": [],
   "source": [
    "import re\n",
    "\n",
    "def count_10min_stations(col):\n",
    "    stations = 0\n",
    "    for i in col.splitlines():\n",
    "        if 'バス' not in i:\n",
    "            stations += len(re.findall('徒歩[0-9]分|徒歩10分', i))\n",
    "    return stations\n",
    "\n",
    "def count_near_stations(col):\n",
    "    # ??駅 徒歩xx分という文の数をカウントして、駅数を求める。\n",
    "    stations = len(re.findall('徒歩\\d+分', col))\n",
    "    try:\n",
    "        # 他に??駅が利用可能という文から??駅を抽出\n",
    "        stations += int(re.findall('に\\d+駅', col)[0].strip('駅に'))\n",
    "    except:\n",
    "        # 他に??駅が利用可能という文が存在しない場合、配列外参照エラーがでるため例外処理しています。\n",
    "        pass\n",
    "    return stations"
   ]
  },
  {
   "cell_type": "code",
   "execution_count": 22,
   "metadata": {},
   "outputs": [],
   "source": [
    "# 徒歩10分以内の駅数\n",
    "# df_all['number_of_stations_10_min'] = df_all['traffic'].apply(lambda x: len(re.findall('徒歩[0-9]|10分', x))).astype('int')\n",
    "df_all['number_of_stations_10_min'] = df_all['traffic'].apply(count_10min_stations).astype('int')\n",
    "# 家の近くのすべての駅数\n",
    "df_all['number_of_stations_all'] = df_all['traffic'].apply(count_near_stations).astype('int')"
   ]
  },
  {
   "cell_type": "code",
   "execution_count": 23,
   "metadata": {},
   "outputs": [
    {
     "data": {
      "image/png": "[encoded data removed]",
      "text/plain": [
       "<Figure size 864x576 with 1 Axes>"
      ]
     },
     "metadata": {
      "needs_background": "light"
     },
     "output_type": "display_data"
    }
   ],
   "source": [
    "plt.figure(figsize=(12, 8))\n",
    "plt.hist(df_all['number_of_stations_10_min'], bins=30)\n",
    "plt.show()"
   ]
  },
  {
   "cell_type": "code",
   "execution_count": 24,
   "metadata": {},
   "outputs": [
    {
     "data": {
      "text/plain": [
       "1    67601\n",
       "0    46957\n",
       "2    37202\n",
       "3    12612\n",
       "4      311\n",
       "5        2\n",
       "Name: number_of_stations_10_min, dtype: int64"
      ]
     },
     "execution_count": 24,
     "metadata": {},
     "output_type": "execute_result"
    }
   ],
   "source": [
    "df_all['number_of_stations_10_min'].value_counts()"
   ]
  },
  {
   "cell_type": "code",
   "execution_count": 25,
   "metadata": {},
   "outputs": [
    {
     "data": {
      "image/png": "[encoded data removed]",
      "text/plain": [
       "<Figure size 864x576 with 1 Axes>"
      ]
     },
     "metadata": {
      "needs_background": "light"
     },
     "output_type": "display_data"
    }
   ],
   "source": [
    "plt.figure(figsize=(12, 8))\n",
    "plt.hist(df_all['number_of_stations_all'], bins=30)\n",
    "plt.show()"
   ]
  },
  {
   "cell_type": "code",
   "execution_count": 26,
   "metadata": {},
   "outputs": [
    {
     "data": {
      "text/plain": [
       "3     58456\n",
       "2     44683\n",
       "6     18414\n",
       "4     16810\n",
       "5     13067\n",
       "1     11577\n",
       "7      1627\n",
       "0        44\n",
       "8         4\n",
       "10        2\n",
       "11        1\n",
       "Name: number_of_stations_all, dtype: int64"
      ]
     },
     "execution_count": 26,
     "metadata": {},
     "output_type": "execute_result"
    }
   ],
   "source": [
    "df_all['number_of_stations_all'].value_counts()"
   ]
  },
  {
   "cell_type": "markdown",
   "metadata": {},
   "source": [
    "### 1,2,3番目に近い駅を抽出"
   ]
  },
  {
   "cell_type": "code",
   "execution_count": 27,
   "metadata": {},
   "outputs": [],
   "source": [
    "df_all.reset_index(drop=True, inplace=True)"
   ]
  },
  {
   "cell_type": "code",
   "execution_count": 28,
   "metadata": {},
   "outputs": [],
   "source": [
    "first_near_station = [None for s in range(len(df_all))]\n",
    "second_near_station = [None for s in range(len(df_all))]\n",
    "third_near_station = [None for s in range(len(df_all))]\n",
    "\n",
    "for index in df_all.index:\n",
    "    stations_list = [s for s in df_all.loc[index, 'traffic'].splitlines() if ('通勤・通学駅' not in s) and ('他に' not in s) and s]\n",
    "    for i, station in enumerate(stations_list):\n",
    "        if i==0:\n",
    "            # index=8の国立のように国立駅の駅が抜けている場合があるため例外処理\n",
    "            try:\n",
    "                first_near_station[index] = re.findall('.*駅', station)[0]\n",
    "            except:\n",
    "                first_near_station[index] = None\n",
    "        elif i==1:\n",
    "            try:\n",
    "                second_near_station[index] = re.findall('.*駅', station)[0]\n",
    "            except:\n",
    "                second_near_station[index] = None\n",
    "        elif i==2:\n",
    "            try:\n",
    "                third_near_station[index] = re.findall('.*駅', station)[0]\n",
    "            except:\n",
    "                third_near_station[index] = None\n",
    "\n",
    "df_all['first_near_station'] = first_near_station\n",
    "df_all['second_near_station'] = second_near_station\n",
    "df_all['third_near_station'] = third_near_station"
   ]
  },
  {
   "cell_type": "markdown",
   "metadata": {},
   "source": [
    "### 床面積"
   ]
  },
  {
   "cell_type": "code",
   "execution_count": 29,
   "metadata": {},
   "outputs": [],
   "source": [
    "df_all['floor_space'] = df_all['floor_space'].apply(lambda x: x.rstrip('m²').replace(',', '')).astype('float')"
   ]
  },
  {
   "cell_type": "markdown",
   "metadata": {},
   "source": [
    "### 築年数"
   ]
  },
  {
   "cell_type": "code",
   "execution_count": 30,
   "metadata": {},
   "outputs": [],
   "source": [
    "# 築0年のときは新築と記載されているので、築0年に置き換える。\n",
    "df_all['how_old'] = df_all['how_old'].apply(lambda x: re.findall(' 築(\\d+)年 ', x.replace('新築', '築0年'))[0]).astype('int')"
   ]
  },
  {
   "cell_type": "code",
   "execution_count": 31,
   "metadata": {},
   "outputs": [
    {
     "data": {
      "image/png": "[encoded data removed]",
      "text/plain": [
       "<Figure size 1008x576 with 1 Axes>"
      ]
     },
     "metadata": {
      "needs_background": "light"
     },
     "output_type": "display_data"
    }
   ],
   "source": [
    "plt.figure(figsize=(14,8))\n",
    "plt.hist(df_all['how_old'], bins=100)\n",
    "plt.show()"
   ]
  },
  {
   "cell_type": "markdown",
   "metadata": {},
   "source": [
    "### 敷金・礼金\n",
    "敷金・礼金をそのまま使うとデータリークするため、金額が記載されている場合は、何か月分の家賃かに置換する。"
   ]
  },
  {
   "cell_type": "code",
   "execution_count": 32,
   "metadata": {},
   "outputs": [],
   "source": [
    "df_all['key_money'] = df_all['security_deposit'].apply(lambda x: x.split(' / ')[1])\n",
    "df_all['security_deposit'] = df_all['security_deposit'].apply(lambda x: x.split(' / ')[0])"
   ]
  },
  {
   "cell_type": "code",
   "execution_count": 33,
   "metadata": {},
   "outputs": [],
   "source": [
    "def preprocess_security_deposit(row):\n",
    "    if 'ヶ月' in row['security_deposit']:\n",
    "        # 正規表現で小数点を含む数字を取得\n",
    "        how_months = float(re.findall('(\\d*[.,]?\\d*)ヶ月', row['security_deposit'])[0])\n",
    "    elif '万円' in row['security_deposit']:\n",
    "        money = float(re.findall('(\\d*[.,]?\\d*)万円', row['security_deposit'])[0])*10000\n",
    "        how_months = money/row['rent']\n",
    "    elif '無'== row['security_deposit']:\n",
    "        how_months = 0\n",
    "    else:\n",
    "        raise Exception\n",
    "    return how_months\n",
    "\n",
    "def preprocess_key_money(row):\n",
    "    if 'ヶ月' in row['key_money']:\n",
    "        how_months = float(re.findall('(\\d*[.,]?\\d*)ヶ月', row['key_money'])[0])\n",
    "    elif '万円' in row['key_money']:\n",
    "        money = float(re.findall('(\\d*[.,]?\\d*)万円', row['key_money'])[0])*10000\n",
    "        how_months = money/row['rent']\n",
    "    elif '無'== row['key_money']:\n",
    "        how_months = 0\n",
    "    else:\n",
    "        raise Exception\n",
    "    return how_months\n",
    "\n",
    "df_all['security_deposit'] = df_all.apply(preprocess_security_deposit, axis=1)\n",
    "df_all['key_money'] = df_all.apply(preprocess_key_money, axis=1)"
   ]
  },
  {
   "cell_type": "markdown",
   "metadata": {},
   "source": [
    "### 更新料"
   ]
  },
  {
   "cell_type": "code",
   "execution_count": 34,
   "metadata": {},
   "outputs": [],
   "source": [
    "def preprocess_renewal_fee(row):\n",
    "    # nanを含んでいる場合、文字型でないとエラーがでる。\n",
    "    if 'ヶ月' in str(row['renewal_fee']):\n",
    "        how_months = float(re.findall('新賃料の(\\d*[.,]?\\d*)ヶ月分', row['renewal_fee'])[0])\n",
    "    elif '円' in str(row['renewal_fee']):\n",
    "        money = float(re.sub(',|円', '', row['renewal_fee']))\n",
    "        how_months = money/row['rent']\n",
    "    else:\n",
    "        how_months = 0\n",
    "    return how_months\n",
    "\n",
    "df_all['renewal_fee'] = df_all.apply(preprocess_renewal_fee, axis=1)"
   ]
  },
  {
   "cell_type": "markdown",
   "metadata": {},
   "source": [
    "### 最寄り駅までの時間"
   ]
  },
  {
   "cell_type": "code",
   "execution_count": 35,
   "metadata": {},
   "outputs": [],
   "source": [
    "df_all['time_to_go_nearest_station'] = \\\n",
    "        df_all['traffic'].apply(lambda x: re.findall('徒歩(\\d+)分', x)[0] if '徒歩' in x else None).astype('float')"
   ]
  },
  {
   "cell_type": "markdown",
   "metadata": {},
   "source": [
    "### 階数"
   ]
  },
  {
   "cell_type": "markdown",
   "metadata": {},
   "source": [
    "301階なるものが存在しますが、中国で構想段階の300階建てのビル（1228m）に匹敵する高さなので明らかに間違いです笑  \n",
    "3階になおしておきます。"
   ]
  },
  {
   "cell_type": "code",
   "execution_count": 36,
   "metadata": {},
   "outputs": [
    {
     "data": {
      "text/plain": [
       "38283    301階/B206\n",
       "Name: floor, dtype: object"
      ]
     },
     "execution_count": 36,
     "metadata": {},
     "output_type": "execute_result"
    }
   ],
   "source": [
    "df_all[df_all['name']=='ロイヤルコートＫａｙＡＢ'].floor"
   ]
  },
  {
   "cell_type": "code",
   "execution_count": 37,
   "metadata": {},
   "outputs": [],
   "source": [
    "df_all.loc[df_all[df_all['name']=='ロイヤルコートＫａｙＡＢ'].index, 'floor'] = '3階'"
   ]
  },
  {
   "cell_type": "code",
   "execution_count": 38,
   "metadata": {},
   "outputs": [
    {
     "data": {
      "text/html": [
       "<div>\n",
       "<style scoped>\n",
       "    .dataframe tbody tr th:only-of-type {\n",
       "        vertical-align: middle;\n",
       "    }\n",
       "\n",
       "    .dataframe tbody tr th {\n",
       "        vertical-align: top;\n",
       "    }\n",
       "\n",
       "    .dataframe thead th {\n",
       "        text-align: right;\n",
       "    }\n",
       "</style>\n",
       "<table border=\"1\" class=\"dataframe\">\n",
       "  <thead>\n",
       "    <tr style=\"text-align: right;\">\n",
       "      <th></th>\n",
       "      <th>floor2</th>\n",
       "      <th>floor</th>\n",
       "    </tr>\n",
       "  </thead>\n",
       "  <tbody>\n",
       "    <tr>\n",
       "      <th>0</th>\n",
       "      <td>4階 / 4階建\\n</td>\n",
       "      <td>4階/401</td>\n",
       "    </tr>\n",
       "    <tr>\n",
       "      <th>1</th>\n",
       "      <td>2階 / 12階建\\n</td>\n",
       "      <td>2階/-</td>\n",
       "    </tr>\n",
       "    <tr>\n",
       "      <th>2</th>\n",
       "      <td>3階 / 12階建\\n</td>\n",
       "      <td>3階/-</td>\n",
       "    </tr>\n",
       "    <tr>\n",
       "      <th>3</th>\n",
       "      <td>2階 / 3階建\\n</td>\n",
       "      <td>2階/205</td>\n",
       "    </tr>\n",
       "    <tr>\n",
       "      <th>4</th>\n",
       "      <td>2階 / 3階建\\n</td>\n",
       "      <td>2階/201</td>\n",
       "    </tr>\n",
       "    <tr>\n",
       "      <th>...</th>\n",
       "      <td>...</td>\n",
       "      <td>...</td>\n",
       "    </tr>\n",
       "    <tr>\n",
       "      <th>164680</th>\n",
       "      <td>4階 / 9階建\\n</td>\n",
       "      <td>4階/-</td>\n",
       "    </tr>\n",
       "    <tr>\n",
       "      <th>164681</th>\n",
       "      <td>2階 / 9階建\\n</td>\n",
       "      <td>2階/-</td>\n",
       "    </tr>\n",
       "    <tr>\n",
       "      <th>164682</th>\n",
       "      <td>1階 / 2階建\\n</td>\n",
       "      <td>1階/-</td>\n",
       "    </tr>\n",
       "    <tr>\n",
       "      <th>164683</th>\n",
       "      <td>2階 / 2階建\\n</td>\n",
       "      <td>NaN</td>\n",
       "    </tr>\n",
       "    <tr>\n",
       "      <th>164684</th>\n",
       "      <td>2階 / 2階建\\n</td>\n",
       "      <td>NaN</td>\n",
       "    </tr>\n",
       "  </tbody>\n",
       "</table>\n",
       "<p>164685 rows × 2 columns</p>\n",
       "</div>"
      ],
      "text/plain": [
       "                                                 floor2   floor\n",
       "0        4階 / 4階建\\n                                      4階/401\n",
       "1       2階 / 12階建\\n                                        2階/-\n",
       "2       3階 / 12階建\\n                                        3階/-\n",
       "3        2階 / 3階建\\n                                      2階/205\n",
       "4        2階 / 3階建\\n                                      2階/201\n",
       "...                                                 ...     ...\n",
       "164680   4階 / 9階建\\n                                        4階/-\n",
       "164681   2階 / 9階建\\n                                        2階/-\n",
       "164682   1階 / 2階建\\n                                        1階/-\n",
       "164683   2階 / 2階建\\n                                         NaN\n",
       "164684   2階 / 2階建\\n                                         NaN\n",
       "\n",
       "[164685 rows x 2 columns]"
      ]
     },
     "execution_count": 38,
     "metadata": {},
     "output_type": "execute_result"
    }
   ],
   "source": [
    "df_all[['floor2','floor']]"
   ]
  },
  {
   "cell_type": "code",
   "execution_count": 39,
   "metadata": {},
   "outputs": [],
   "source": [
    "def extract_max_foor(row):\n",
    "    try:\n",
    "        if '階' in str(row):\n",
    "            max_floor = re.findall('(\\d+)階', row)[1]\n",
    "        else:\n",
    "            max_floor = None\n",
    "    except:\n",
    "        max_floor = None\n",
    "    return max_floor"
   ]
  },
  {
   "cell_type": "code",
   "execution_count": 40,
   "metadata": {},
   "outputs": [],
   "source": [
    "df_all['max_floor'] = df_all['floor2'].apply(extract_max_foor).astype('float')"
   ]
  },
  {
   "cell_type": "code",
   "execution_count": 41,
   "metadata": {},
   "outputs": [],
   "source": [
    "df_all['floor'] = df_all['floor2'].apply(lambda x: re.findall('(\\d+)階', x)[0] if '階' in str(x) else 0).astype('int')"
   ]
  },
  {
   "cell_type": "code",
   "execution_count": 42,
   "metadata": {},
   "outputs": [],
   "source": [
    "df_all.drop(['rent', 'service_fee'], axis=1, inplace=True)"
   ]
  },
  {
   "cell_type": "code",
   "execution_count": 43,
   "metadata": {},
   "outputs": [
    {
     "data": {
      "image/png": "[encoded data removed]",
      "text/plain": [
       "<Figure size 1080x864 with 2 Axes>"
      ]
     },
     "metadata": {
      "needs_background": "light"
     },
     "output_type": "display_data"
    }
   ],
   "source": [
    "mask = np.zeros_like(df_all.corr(), dtype=np.bool)\n",
    "mask[np.triu_indices_from(mask)] = True\n",
    "\n",
    "plt.figure(figsize = (15,12))\n",
    "sns.heatmap(df_all.corr(), \n",
    "            annot=True,\n",
    "            mask = mask,\n",
    "            cmap = 'RdBu_r',\n",
    "            linewidths=0.1, \n",
    "            linecolor='white',\n",
    "            vmax = .9,\n",
    "            square=True)\n",
    "plt.title(\"Correlations Among Features\", y = 1.03,fontsize = 20)\n",
    "plt.tight_layout()\n",
    "plt.ylim(0,len(df_all.corr()))\n",
    "plt.show()"
   ]
  },
  {
   "cell_type": "markdown",
   "metadata": {},
   "source": [
    "### ヒートマップからわかること\n",
    "- `auto_lock`と家賃の相関がかなり大きい。ただし、`auto_lock`は築年数と大きな負の相関があり、これは`auto_lock`が導入され始めたのが比較的新しいためだと考えられる。  \n",
    "したがって、家賃とオートロックは疑似相関（築年数を介した）の可能性が高い"
   ]
  },
  {
   "cell_type": "markdown",
   "metadata": {},
   "source": [
    "### 間取り\n",
    "|アルファベット  |意味  |\n",
    "|---|---|\n",
    "|R  |一般的に1部屋の中にキッチンが含まれている間取り  |\n",
    "|K  |居室とキッチンの間に間仕切りがある間取り  |\n",
    "|D  |キッチンで食事がとれるようなスペースがある  |\n",
    "|L  |食事やテレビを見たりできるようなダイニングよりもさらに広いスペースがある  |\n",
    "|S  |サービスルームの略。採光が不足し居室とは認められないがフリースペースとして使える部屋  |\n",
    "\n",
    "参考：https://suumo.jp/yougo/m/madori/"
   ]
  },
  {
   "cell_type": "code",
   "execution_count": 44,
   "metadata": {},
   "outputs": [],
   "source": [
    "df_all['floor_plan'] = df_all['floor_plan'].apply(lambda x: x.split()[0])"
   ]
  },
  {
   "cell_type": "code",
   "execution_count": 45,
   "metadata": {},
   "outputs": [
    {
     "data": {
      "text/plain": [
       "array(['ワンルーム', '1K', '1LDK', '1DK', '3LDK', '2K', '2LDK', '2DK', '2SLDK',\n",
       "       '1SK', '1SLDK', '3DK', '1SDK', '1SLK', '3K', '2SDK', '1LK',\n",
       "       '3SLDK', '4DK', '4LDK', '4SLDK', '3SDK', '10K', '2LK', '5SLDK',\n",
       "       '5DK', '2R', '4K', '2SLK', '5K', '2SK', '5LDK', '3LK', '6R', '15K',\n",
       "       '3SK', '5SK', '4SDK', '11K', '8LDK', '6LDK', '7LDK', '5SDK',\n",
       "       '6SLDK', '3SLK', '6DK', '12DK', '7SLDK', '4SK'], dtype=object)"
      ]
     },
     "execution_count": 45,
     "metadata": {},
     "output_type": "execute_result"
    }
   ],
   "source": [
    "df_all['floor_plan'].unique()"
   ]
  },
  {
   "cell_type": "markdown",
   "metadata": {},
   "source": [
    "### 住所"
   ]
  },
  {
   "cell_type": "code",
   "execution_count": 46,
   "metadata": {},
   "outputs": [],
   "source": [
    "df_all['address_town'] = df_all['address'].apply(lambda x: re.split('\\d+', x)[0])"
   ]
  },
  {
   "cell_type": "code",
   "execution_count": 47,
   "metadata": {},
   "outputs": [],
   "source": [
    "numeric_col = [s for s in df_all.columns if df_all[s].dtype != 'object']\n",
    "object_col = ['floor_plan', 'first_near_station', 'second_near_station', 'third_near_station', 'status', 'address', 'address_town', 'name', 'url', 'structure']"
   ]
  },
  {
   "cell_type": "code",
   "execution_count": 48,
   "metadata": {},
   "outputs": [],
   "source": [
    "df = df_all[numeric_col + object_col]"
   ]
  },
  {
   "cell_type": "code",
   "execution_count": 49,
   "metadata": {},
   "outputs": [
    {
     "name": "stderr",
     "output_type": "stream",
     "text": [
      "/Users/KobayashiYosuke/.local/share/virtualenvs/Tokyo-house-price-prediction-wXlIqgjE/lib/python3.7/site-packages/ipykernel_launcher.py:1: SettingWithCopyWarning: \n",
      "A value is trying to be set on a copy of a slice from a DataFrame.\n",
      "Try using .loc[row_indexer,col_indexer] = value instead\n",
      "\n",
      "See the caveats in the documentation: http://pandas.pydata.org/pandas-docs/stable/user_guide/indexing.html#returning-a-view-versus-a-copy\n",
      "  \"\"\"Entry point for launching an IPython kernel.\n"
     ]
    }
   ],
   "source": [
    "df['target'] = np.log1p(df['target'].copy())"
   ]
  },
  {
   "cell_type": "code",
   "execution_count": 50,
   "metadata": {},
   "outputs": [
    {
     "data": {
      "image/png": "[encoded data removed]",
      "text/plain": [
       "<Figure size 864x576 with 1 Axes>"
      ]
     },
     "metadata": {
      "needs_background": "light"
     },
     "output_type": "display_data"
    }
   ],
   "source": [
    "plt.figure(figsize=(12, 8))\n",
    "plt.hist(np.ceil(df_all['target']), bins=20)\n",
    "plt.show()"
   ]
  },
  {
   "cell_type": "code",
   "execution_count": 51,
   "metadata": {},
   "outputs": [
    {
     "name": "stderr",
     "output_type": "stream",
     "text": [
      "/Users/KobayashiYosuke/.local/share/virtualenvs/Tokyo-house-price-prediction-wXlIqgjE/lib/python3.7/site-packages/pandas/core/generic.py:6287: SettingWithCopyWarning: \n",
      "A value is trying to be set on a copy of a slice from a DataFrame\n",
      "\n",
      "See the caveats in the documentation: http://pandas.pydata.org/pandas-docs/stable/user_guide/indexing.html#returning-a-view-versus-a-copy\n",
      "  self._update_inplace(new_data)\n",
      "/Users/KobayashiYosuke/.local/share/virtualenvs/Tokyo-house-price-prediction-wXlIqgjE/lib/python3.7/site-packages/ipykernel_launcher.py:8: SettingWithCopyWarning: \n",
      "A value is trying to be set on a copy of a slice from a DataFrame.\n",
      "Try using .loc[row_indexer,col_indexer] = value instead\n",
      "\n",
      "See the caveats in the documentation: http://pandas.pydata.org/pandas-docs/stable/user_guide/indexing.html#returning-a-view-versus-a-copy\n",
      "  \n"
     ]
    }
   ],
   "source": [
    "from sklearn.preprocessing import LabelEncoder\n",
    "\n",
    "encoder_dict = {}\n",
    "for col in object_col:\n",
    "    if col != 'url':\n",
    "        df[col].fillna('-999', inplace=True)\n",
    "        encoder_dict[col] = LabelEncoder().fit(df[col])\n",
    "        df[col] = encoder_dict[col].transform(df[col].copy())"
   ]
  },
  {
   "cell_type": "markdown",
   "metadata": {},
   "source": [
    "# 機械学習モデルの作成\n",
    "---"
   ]
  },
  {
   "cell_type": "code",
   "execution_count": 52,
   "metadata": {},
   "outputs": [],
   "source": [
    "from sklearn.model_selection import GroupShuffleSplit\n",
    "gss = GroupShuffleSplit(n_splits=1, test_size=0.1, random_state=42)\n",
    "\n",
    "X = df.drop('target', axis=1)\n",
    "y = df['target'].values\n",
    "for train_idx, test_idx in gss.split(X, y, groups=X['name'].values):\n",
    "    X_train, y_train = X.iloc[train_idx], y[train_idx]\n",
    "    X_test, y_test = X.iloc[test_idx], y[test_idx]    "
   ]
  },
  {
   "cell_type": "code",
   "execution_count": 53,
   "metadata": {},
   "outputs": [
    {
     "name": "stdout",
     "output_type": "stream",
     "text": [
      "--------------------\n",
      "3 Folds training...\n",
      "--------------------\n"
     ]
    }
   ],
   "source": [
    "# from sklearn.model_selection import KFold\n",
    "from sklearn.model_selection import GroupKFold\n",
    "nfold = 3\n",
    "# folds = KFold(n_splits=nfold, shuffle=True, random_state=42)\n",
    "folds = GroupKFold(n_splits=nfold)\n",
    "groups = X_train['name'].values\n",
    "print('-'*20)\n",
    "print(str(nfold) + ' Folds training...')\n",
    "print('-'*20)"
   ]
  },
  {
   "cell_type": "code",
   "execution_count": 54,
   "metadata": {},
   "outputs": [],
   "source": [
    "params_lgb = {\n",
    "    \"boosting\": \"gbdt\",\n",
    "    \"verbosity\": -1,\n",
    "    \"num_leaves\": 200,\n",
    "#     \"min_data_in_leaf\": 10,\n",
    "    \"min_child_weight\": 1,\n",
    "    \"max_depth\": 8,\n",
    "    \"colsample_bytree\": 1.0,\n",
    "    \"subsample\": 0.9,\n",
    "    \"gamma\": 0,\n",
    "    \"lambda_l2\": 1,\n",
    "    \"lambda_l1\": 0,\n",
    "    \"learning_rate\": 0.1,\n",
    "    \"random_seed\": 42,\n",
    "    \"metric\": \"rmse\",\n",
    "}"
   ]
  },
  {
   "cell_type": "code",
   "execution_count": 55,
   "metadata": {},
   "outputs": [
    {
     "name": "stderr",
     "output_type": "stream",
     "text": [
      "/Users/KobayashiYosuke/.local/share/virtualenvs/Tokyo-house-price-prediction-wXlIqgjE/lib/python3.7/site-packages/lightgbm/__init__.py:48: UserWarning: Starting from version 2.2.1, the library file in distribution wheels for macOS is built by the Apple Clang (Xcode_8.3.3) compiler.\n",
      "This means that in case of installing LightGBM from PyPI via the ``pip install lightgbm`` command, you don't need to install the gcc compiler anymore.\n",
      "Instead of that, you need to install the OpenMP library, which is required for running LightGBM on the system with the Apple Clang compiler.\n",
      "You can install the OpenMP library by the following command: ``brew install libomp``.\n",
      "  \"You can install the OpenMP library by the following command: ``brew install libomp``.\", UserWarning)\n"
     ]
    },
    {
     "name": "stdout",
     "output_type": "stream",
     "text": [
      "fold 0\n",
      "Training until validation scores don't improve for 500 rounds\n",
      "[500]\ttraining's rmse: 0.0631679\tvalid_1's rmse: 0.0994069\n",
      "[1000]\ttraining's rmse: 0.0493903\tvalid_1's rmse: 0.0966779\n",
      "[1500]\ttraining's rmse: 0.0408242\tvalid_1's rmse: 0.0956802\n",
      "[2000]\ttraining's rmse: 0.0347755\tvalid_1's rmse: 0.0951268\n",
      "[2500]\ttraining's rmse: 0.0299788\tvalid_1's rmse: 0.0947458\n",
      "[3000]\ttraining's rmse: 0.0262723\tvalid_1's rmse: 0.0945453\n",
      "[3500]\ttraining's rmse: 0.0232082\tvalid_1's rmse: 0.0943761\n",
      "[4000]\ttraining's rmse: 0.0208753\tvalid_1's rmse: 0.094286\n",
      "[4500]\ttraining's rmse: 0.0188477\tvalid_1's rmse: 0.0942086\n",
      "[5000]\ttraining's rmse: 0.0172252\tvalid_1's rmse: 0.0941509\n",
      "[5500]\ttraining's rmse: 0.0157543\tvalid_1's rmse: 0.094122\n",
      "[6000]\ttraining's rmse: 0.0145479\tvalid_1's rmse: 0.0941064\n",
      "[6500]\ttraining's rmse: 0.0134946\tvalid_1's rmse: 0.0940936\n",
      "Early stopping, best iteration is:\n",
      "[6491]\ttraining's rmse: 0.0135106\tvalid_1's rmse: 0.0940901\n",
      "fold 1\n",
      "Training until validation scores don't improve for 500 rounds\n",
      "[500]\ttraining's rmse: 0.0629458\tvalid_1's rmse: 0.0986536\n",
      "[1000]\ttraining's rmse: 0.0488432\tvalid_1's rmse: 0.0956959\n",
      "[1500]\ttraining's rmse: 0.0401343\tvalid_1's rmse: 0.0944739\n",
      "[2000]\ttraining's rmse: 0.0341508\tvalid_1's rmse: 0.0939071\n",
      "[2500]\ttraining's rmse: 0.0292898\tvalid_1's rmse: 0.0936114\n",
      "[3000]\ttraining's rmse: 0.0255576\tvalid_1's rmse: 0.0934163\n",
      "[3500]\ttraining's rmse: 0.0226694\tvalid_1's rmse: 0.0932989\n",
      "[4000]\ttraining's rmse: 0.0202343\tvalid_1's rmse: 0.0932437\n",
      "[4500]\ttraining's rmse: 0.0181566\tvalid_1's rmse: 0.0931954\n",
      "[5000]\ttraining's rmse: 0.0164717\tvalid_1's rmse: 0.0931751\n",
      "[5500]\ttraining's rmse: 0.0150671\tvalid_1's rmse: 0.0931688\n",
      "[6000]\ttraining's rmse: 0.0138995\tvalid_1's rmse: 0.09316\n",
      "Early stopping, best iteration is:\n",
      "[5692]\ttraining's rmse: 0.01457\tvalid_1's rmse: 0.0931504\n",
      "fold 2\n",
      "Training until validation scores don't improve for 500 rounds\n",
      "[500]\ttraining's rmse: 0.0630415\tvalid_1's rmse: 0.100021\n",
      "[1000]\ttraining's rmse: 0.0496217\tvalid_1's rmse: 0.097066\n",
      "[1500]\ttraining's rmse: 0.0410849\tvalid_1's rmse: 0.0957656\n",
      "[2000]\ttraining's rmse: 0.0350514\tvalid_1's rmse: 0.0950447\n",
      "[2500]\ttraining's rmse: 0.0302328\tvalid_1's rmse: 0.0946612\n",
      "[3000]\ttraining's rmse: 0.0264548\tvalid_1's rmse: 0.0943714\n",
      "[3500]\ttraining's rmse: 0.0233639\tvalid_1's rmse: 0.094194\n",
      "[4000]\ttraining's rmse: 0.020873\tvalid_1's rmse: 0.0941034\n",
      "[4500]\ttraining's rmse: 0.0187668\tvalid_1's rmse: 0.09404\n",
      "[5000]\ttraining's rmse: 0.0170151\tvalid_1's rmse: 0.0939978\n",
      "[5500]\ttraining's rmse: 0.0156128\tvalid_1's rmse: 0.0939582\n",
      "[6000]\ttraining's rmse: 0.0144372\tvalid_1's rmse: 0.0939314\n",
      "[6500]\ttraining's rmse: 0.0134013\tvalid_1's rmse: 0.0938994\n",
      "[7000]\ttraining's rmse: 0.0124981\tvalid_1's rmse: 0.0938864\n",
      "[7500]\ttraining's rmse: 0.0117596\tvalid_1's rmse: 0.0938836\n",
      "[8000]\ttraining's rmse: 0.011113\tvalid_1's rmse: 0.0938852\n",
      "Early stopping, best iteration is:\n",
      "[7508]\ttraining's rmse: 0.011743\tvalid_1's rmse: 0.0938825\n",
      "RMSE 11263.250328399985円\n",
      "CPU times: user 42min 40s, sys: 1min 17s, total: 43min 57s\n",
      "Wall time: 5min 55s\n"
     ]
    }
   ],
   "source": [
    "%%time\n",
    "import lightgbm as lgb\n",
    "from sklearn.metrics import mean_squared_error\n",
    "\n",
    "oof = np.zeros(len(X_train))\n",
    "feature_importance_df = pd.DataFrame()\n",
    "df_fold_all = pd.DataFrame()\n",
    "tr_rmse = []\n",
    "val_rmse = []\n",
    "models = []\n",
    "\n",
    "for fold_, (trn_idx, val_idx) in enumerate(folds.split(X_train, y_train, groups)):\n",
    "    strLog = f\"fold {fold_}\"\n",
    "    print(strLog)\n",
    "    df_fold_id = pd.DataFrame(data={'index':val_idx})\n",
    "    df_fold_id['folds'] = fold_\n",
    "    df_fold_all = pd.concat([df_fold_all, df_fold_id])\n",
    "    \n",
    "    X_tr, X_val = X_train.drop(['url', 'name'], axis=1).iloc[trn_idx], X_train.drop(['url', 'name'], axis=1).iloc[val_idx]\n",
    "    y_tr, y_val = y_train[trn_idx], y_train[val_idx]\n",
    "    \n",
    "    model = lgb.LGBMRegressor(**params_lgb, n_estimators = 100000, n_jobs = -1)\n",
    "    model.fit(X_tr, \n",
    "              y_tr, \n",
    "              eval_set=[(X_tr, y_tr), (X_val, y_val)], \n",
    "              eval_metric='rmse',\n",
    "              verbose=500, \n",
    "              early_stopping_rounds=500,\n",
    "             )\n",
    "\n",
    "    oof[val_idx] = model.predict(X_val)\n",
    "    val_score = np.sqrt(mean_squared_error(y_val, oof[val_idx]))\n",
    "    val_rmse.append(val_score)\n",
    "    tr_score = np.sqrt(mean_squared_error(y_tr, model.predict(X_tr)))\n",
    "    tr_rmse.append(tr_score)\n",
    "    models.append(model)\n",
    "    \n",
    "    fold_importance_df = pd.DataFrame()\n",
    "    fold_importance_df[\"Feature\"] = X_tr.columns\n",
    "    fold_importance_df[\"importance\"] = model.booster_.feature_importance(importance_type='gain')[:len(X_tr.columns)]\n",
    "    fold_importance_df[\"fold\"] = fold_ + 1\n",
    "    feature_importance_df = pd.concat([feature_importance_df, fold_importance_df], axis=0)\n",
    "\n",
    "rmse = np.sqrt(mean_squared_error(np.expm1(y_train), np.expm1(oof)))\n",
    "df_fold_all.set_index('index', inplace=True)\n",
    "print(f'RMSE {rmse}円')"
   ]
  },
  {
   "cell_type": "code",
   "execution_count": 56,
   "metadata": {},
   "outputs": [
    {
     "data": {
      "image/png": "[encoded data removed]",
      "text/plain": [
       "<Figure size 1008x1872 with 1 Axes>"
      ]
     },
     "metadata": {
      "needs_background": "light"
     },
     "output_type": "display_data"
    }
   ],
   "source": [
    "cols = (feature_importance_df[[\"Feature\", \"importance\"]]\n",
    "        .groupby(\"Feature\")\n",
    "        .mean()\n",
    "        .sort_values(by=\"importance\", ascending=False)[:50].index)\n",
    "best_features = feature_importance_df.loc[feature_importance_df.Feature.isin(cols)]\n",
    "\n",
    "plt.figure(figsize=(14,26))\n",
    "sns.barplot(x=\"importance\", y=\"Feature\", data=best_features.sort_values(by=\"importance\",ascending=False))\n",
    "plt.title('LightGBM Features (averaged over folds)')\n",
    "plt.tight_layout()"
   ]
  },
  {
   "cell_type": "code",
   "execution_count": 57,
   "metadata": {},
   "outputs": [
    {
     "data": {
      "image/png": "[encoded data removed]",
      "text/plain": [
       "<Figure size 432x432 with 1 Axes>"
      ]
     },
     "metadata": {
      "needs_background": "light"
     },
     "output_type": "display_data"
    }
   ],
   "source": [
    "plt.figure(figsize=(6,6))\n",
    "plt.scatter(np.expm1(oof), np.expm1(y_train), alpha=0.3)\n",
    "plt.tight_layout()\n",
    "plt.show()"
   ]
  },
  {
   "cell_type": "code",
   "execution_count": 58,
   "metadata": {},
   "outputs": [],
   "source": [
    "def mean_absolute_percentage_error(y_true, y_pred):\n",
    "    return np.mean(np.abs((y_true - y_pred) / y_true)) * 100"
   ]
  },
  {
   "cell_type": "markdown",
   "metadata": {},
   "source": [
    "## 相対誤差"
   ]
  },
  {
   "cell_type": "code",
   "execution_count": 59,
   "metadata": {},
   "outputs": [
    {
     "data": {
      "text/plain": [
       "6.453968417481605"
      ]
     },
     "execution_count": 59,
     "metadata": {},
     "output_type": "execute_result"
    }
   ],
   "source": [
    "mean_absolute_percentage_error(np.expm1(y_train), np.expm1(oof))"
   ]
  },
  {
   "cell_type": "code",
   "execution_count": 60,
   "metadata": {},
   "outputs": [],
   "source": [
    "def calc_sc(x):\n",
    "    return np.round_(50+10*(x-np.average(x))/np.std(x))"
   ]
  },
  {
   "cell_type": "code",
   "execution_count": 61,
   "metadata": {},
   "outputs": [],
   "source": [
    "if model_save:\n",
    "    for idx, model in enumerate(models):\n",
    "        model.booster_.save_model(f'../data/lgb_regressor_{idx}.txt')\n",
    "    X_train = X_train.reset_index(drop=True).join(df_fold_all)\n",
    "    X_train['target'] = np.expm1(y_train)\n",
    "    X_train['predict'] = np.expm1(oof)\n",
    "    X_train['mape'] = X_train.apply(lambda x: (x['predict']-x['target'])/x['target'], axis=1)\n",
    "    X_train['sc'] = calc_sc(X_train['mape'])\n",
    "    X_train.to_csv('../data/x_train.csv', index=False)"
   ]
  },
  {
   "cell_type": "code",
   "execution_count": 62,
   "metadata": {},
   "outputs": [
    {
     "name": "stdout",
     "output_type": "stream",
     "text": [
      "[NbConvertApp] Converting notebook 不動産価格予測.ipynb to markdown\n",
      "[NbConvertApp] Support files will be in 不動産価格予測_files/\n",
      "[NbConvertApp] Making directory 不動産価格予測_files\n",
      "[NbConvertApp] Making directory 不動産価格予測_files\n",
      "[NbConvertApp] Making directory 不動産価格予測_files\n",
      "[NbConvertApp] Making directory 不動産価格予測_files\n",
      "[NbConvertApp] Making directory 不動産価格予測_files\n",
      "[NbConvertApp] Making directory 不動産価格予測_files\n",
      "[NbConvertApp] Making directory 不動産価格予測_files\n",
      "[NbConvertApp] Making directory 不動産価格予測_files\n",
      "[NbConvertApp] Making directory 不動産価格予測_files\n",
      "[NbConvertApp] Making directory 不動産価格予測_files\n",
      "[NbConvertApp] Making directory 不動産価格予測_files\n",
      "[NbConvertApp] Writing 36637 bytes to 不動産価格予測.md\n"
     ]
    }
   ],
   "source": [
    "!jupyter nbconvert --to markdown 不動産価格予測.ipynb\n",
    "!mv 不動産価格予測.md README.md"
   ]
  },
  {
   "cell_type": "code",
   "execution_count": null,
   "metadata": {},
   "outputs": [],
   "source": []
  }
 ],
 "metadata": {
  "kernelspec": {
   "display_name": "Python 3",
   "language": "python",
   "name": "python3"
  },
  "language_info": {
   "codemirror_mode": {
    "name": "ipython",
    "version": 3
   },
   "file_extension": ".py",
   "mimetype": "text/x-python",
   "name": "python",
   "nbconvert_exporter": "python",
   "pygments_lexer": "ipython3",
   "version": "3.7.5"
  }
 },
 "nbformat": 4,
 "nbformat_minor": 4
}
